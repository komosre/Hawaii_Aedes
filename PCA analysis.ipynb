{
 "cells": [
  {
   "cell_type": "markdown",
   "metadata": {},
   "source": [
    "# PCA\n",
    "\n",
    "generate PCA figure based on variant calling (zarr) file"
   ]
  },
  {
   "cell_type": "code",
   "execution_count": null,
   "metadata": {},
   "outputs": [],
   "source": []
  },
  {
   "cell_type": "code",
   "execution_count": 1,
   "metadata": {
    "ExecuteTime": {
     "end_time": "2019-01-18T01:35:18.064407Z",
     "start_time": "2019-01-18T01:35:17.447021Z"
    },
    "scrolled": true
   },
   "outputs": [
    {
     "name": "stdout",
     "output_type": "stream",
     "text": [
      "3.10.12 (main, Jul  5 2023, 18:54:27) [GCC 11.2.0]\n",
      "numpy 1.25.1\n",
      "matplotlib 3.9.2\n",
      "pandas 2.2.2\n",
      "allel 1.3.6\n",
      "zarr 2.15.0\n",
      "allel_helpers 0.2.1\n"
     ]
    }
   ],
   "source": [
    "import sys; print(sys.version)\n",
    "import os\n",
    "import glob\n",
    "import subprocess\n",
    "import multiprocessing\n",
    "import functools\n",
    "from collections import OrderedDict\n",
    "import timeit\n",
    "\n",
    "import numpy as np; print('numpy', np.__version__)\n",
    "import matplotlib as mpl; print('matplotlib', mpl.__version__)\n",
    "import matplotlib.pyplot as plt\n",
    "import matplotlib.gridspec as gridspec\n",
    "\n",
    "import pandas as pd; print('pandas',pd.__version__)\n",
    "import allel; print('allel', allel.__version__)\n",
    "import zarr; print('zarr', zarr.__version__)\n",
    "\n",
    "sys.path.append('/home/seoks/Documents/ngs_scripts-master/ngs_py_utils/')\n",
    "import allel_helpers; print('allel_helpers', allel_helpers.__version__)\n",
    "\n",
    "from IPython.display import display, HTML"
   ]
  },
  {
   "cell_type": "code",
   "execution_count": 2,
   "metadata": {
    "ExecuteTime": {
     "end_time": "2019-01-18T01:35:18.072271Z",
     "start_time": "2019-01-18T01:35:18.065916Z"
    }
   },
   "outputs": [],
   "source": [
    "%matplotlib inline"
   ]
  },
  {
   "cell_type": "code",
   "execution_count": 3,
   "metadata": {
    "ExecuteTime": {
     "end_time": "2019-01-18T01:35:18.077476Z",
     "start_time": "2019-01-18T01:35:18.075081Z"
    }
   },
   "outputs": [],
   "source": [
    "start_tic = timeit.default_timer()"
   ]
  },
  {
   "cell_type": "code",
   "execution_count": 4,
   "metadata": {
    "ExecuteTime": {
     "end_time": "2019-01-18T01:35:18.083912Z",
     "start_time": "2019-01-18T01:35:18.079980Z"
    }
   },
   "outputs": [],
   "source": [
    "INFN_ZARR = '/home/seoks/Documents/albopictus/Analysis_AalbF5/OCT252024/AalbF5_June2024_DP8_mm0.1.vcf.gz.zarr/'\n",
    "\n",
    "REFERENCE_FAI = '/home/seoks/Documents/albopictus/Analysis_AalbF5/OCT252024/AalbF5.fa.fai'\n",
    "\n",
    "# META_FN = 'Pacific albopictus ss.xlsx'\n",
    "META_FN = 'Albo_Pacific.xlsx'\n",
    "GROUP_COL = 'Collection_Location'\n",
    "\n",
    "ADD_REFERENCE = False\n",
    "\n",
    "CHROMS = ['NC_085136.1','NC_085137.1','NC_085138.1']\n",
    "\n",
    "FILTER_SNP = True\n",
    "FILTER_BIALLELIC = True\n",
    "FILTER_SINGLETON = True # also filters biallelic\n",
    "MAX_MISSING = 0.1\n",
    "MIN_FMTDP = 8"
   ]
  },
  {
   "cell_type": "code",
   "execution_count": 5,
   "metadata": {},
   "outputs": [
    {
     "data": {
      "text/plain": [
       "'/home/seoks/Documents/albopictus/Analysis_AalbF5/OCT252024/AalbF5_June2024_DP8_mm0.1.vcf.gz.zarr/'"
      ]
     },
     "execution_count": 5,
     "metadata": {},
     "output_type": "execute_result"
    }
   ],
   "source": [
    "INFN_ZARR"
   ]
  },
  {
   "cell_type": "markdown",
   "metadata": {
    "tags": []
   },
   "source": [
    "# Load callset from zarr archive"
   ]
  },
  {
   "cell_type": "code",
   "execution_count": null,
   "metadata": {},
   "outputs": [],
   "source": []
  },
  {
   "cell_type": "code",
   "execution_count": 6,
   "metadata": {
    "ExecuteTime": {
     "end_time": "2019-01-18T01:35:18.088105Z",
     "start_time": "2019-01-18T01:35:18.085363Z"
    },
    "scrolled": true
   },
   "outputs": [],
   "source": [
    "callset = zarr.open_group(INFN_ZARR, mode='r')"
   ]
  },
  {
   "cell_type": "code",
   "execution_count": 7,
   "metadata": {
    "scrolled": true
   },
   "outputs": [
    {
     "data": {
      "text/html": [
       "<div>\n",
       "<style scoped>\n",
       "    .dataframe tbody tr th:only-of-type {\n",
       "        vertical-align: middle;\n",
       "    }\n",
       "\n",
       "    .dataframe tbody tr th {\n",
       "        vertical-align: top;\n",
       "    }\n",
       "\n",
       "    .dataframe thead th {\n",
       "        text-align: right;\n",
       "    }\n",
       "</style>\n",
       "<table border=\"1\" class=\"dataframe\">\n",
       "  <thead>\n",
       "    <tr style=\"text-align: right;\">\n",
       "      <th></th>\n",
       "      <th>chrom</th>\n",
       "      <th>len</th>\n",
       "      <th>offset</th>\n",
       "      <th>lbases</th>\n",
       "      <th>lwidth</th>\n",
       "    </tr>\n",
       "  </thead>\n",
       "  <tbody>\n",
       "    <tr>\n",
       "      <th>1</th>\n",
       "      <td>NC_085137.1</td>\n",
       "      <td>518725454</td>\n",
       "      <td>342405067</td>\n",
       "      <td>80</td>\n",
       "      <td>81</td>\n",
       "    </tr>\n",
       "    <tr>\n",
       "      <th>2</th>\n",
       "      <td>NC_085138.1</td>\n",
       "      <td>450188506</td>\n",
       "      <td>867614686</td>\n",
       "      <td>80</td>\n",
       "      <td>81</td>\n",
       "    </tr>\n",
       "    <tr>\n",
       "      <th>0</th>\n",
       "      <td>NC_085136.1</td>\n",
       "      <td>338177654</td>\n",
       "      <td>96</td>\n",
       "      <td>80</td>\n",
       "      <td>81</td>\n",
       "    </tr>\n",
       "    <tr>\n",
       "      <th>941</th>\n",
       "      <td>NW_026917309.1</td>\n",
       "      <td>225000</td>\n",
       "      <td>1346000343</td>\n",
       "      <td>80</td>\n",
       "      <td>81</td>\n",
       "    </tr>\n",
       "    <tr>\n",
       "      <th>1052</th>\n",
       "      <td>NW_026917420.1</td>\n",
       "      <td>220370</td>\n",
       "      <td>1349794324</td>\n",
       "      <td>80</td>\n",
       "      <td>81</td>\n",
       "    </tr>\n",
       "    <tr>\n",
       "      <th>...</th>\n",
       "      <td>...</td>\n",
       "      <td>...</td>\n",
       "      <td>...</td>\n",
       "      <td>...</td>\n",
       "      <td>...</td>\n",
       "    </tr>\n",
       "    <tr>\n",
       "      <th>457</th>\n",
       "      <td>NW_026916825.1</td>\n",
       "      <td>1000</td>\n",
       "      <td>1328317283</td>\n",
       "      <td>80</td>\n",
       "      <td>81</td>\n",
       "    </tr>\n",
       "    <tr>\n",
       "      <th>455</th>\n",
       "      <td>NW_026916823.1</td>\n",
       "      <td>1000</td>\n",
       "      <td>1328257192</td>\n",
       "      <td>80</td>\n",
       "      <td>81</td>\n",
       "    </tr>\n",
       "    <tr>\n",
       "      <th>446</th>\n",
       "      <td>NW_026916814.1</td>\n",
       "      <td>1000</td>\n",
       "      <td>1328246905</td>\n",
       "      <td>80</td>\n",
       "      <td>81</td>\n",
       "    </tr>\n",
       "    <tr>\n",
       "      <th>426</th>\n",
       "      <td>NW_026916794.1</td>\n",
       "      <td>987</td>\n",
       "      <td>1327925312</td>\n",
       "      <td>80</td>\n",
       "      <td>81</td>\n",
       "    </tr>\n",
       "    <tr>\n",
       "      <th>491</th>\n",
       "      <td>NW_026916859.1</td>\n",
       "      <td>985</td>\n",
       "      <td>1328527833</td>\n",
       "      <td>80</td>\n",
       "      <td>81</td>\n",
       "    </tr>\n",
       "  </tbody>\n",
       "</table>\n",
       "<p>1497 rows × 5 columns</p>\n",
       "</div>"
      ],
      "text/plain": [
       "               chrom        len      offset  lbases  lwidth\n",
       "1        NC_085137.1  518725454   342405067      80      81\n",
       "2        NC_085138.1  450188506   867614686      80      81\n",
       "0        NC_085136.1  338177654          96      80      81\n",
       "941   NW_026917309.1     225000  1346000343      80      81\n",
       "1052  NW_026917420.1     220370  1349794324      80      81\n",
       "...              ...        ...         ...     ...     ...\n",
       "457   NW_026916825.1       1000  1328317283      80      81\n",
       "455   NW_026916823.1       1000  1328257192      80      81\n",
       "446   NW_026916814.1       1000  1328246905      80      81\n",
       "426   NW_026916794.1        987  1327925312      80      81\n",
       "491   NW_026916859.1        985  1328527833      80      81\n",
       "\n",
       "[1497 rows x 5 columns]"
      ]
     },
     "execution_count": 7,
     "metadata": {},
     "output_type": "execute_result"
    }
   ],
   "source": [
    "# reading the chromosome names and sizes from the reference fasta index (fai)\n",
    "fai = pd.read_table(REFERENCE_FAI,\n",
    "            names=['chrom','len','offset','lbases','lwidth'])\n",
    "fai.sort_values('len', ascending=False, inplace=True)\n",
    "fai"
   ]
  },
  {
   "cell_type": "code",
   "execution_count": 8,
   "metadata": {},
   "outputs": [],
   "source": [
    "# @TCC TEMP : just use first few chroms\n",
    "# CHROMS = fai['chrom'].values[0:5]\n",
    "\n",
    "# all chroms (from callset)fig = fig_pca2(coords, model, \"PCA of Aedes albopictus Pacific Samples\", \n",
    "CHROMS = list(callset.keys())"
   ]
  },
  {
   "cell_type": "code",
   "execution_count": 9,
   "metadata": {},
   "outputs": [],
   "source": [
    "# Creating a metadata file for the sample list\n",
    "\n",
    "\n",
    "if False:\n",
    "    tmp = pd.DataFrame(columns=['site','group'], \n",
    "                       index=list(callset[list(callset.keys())[0]]['samples']))\n",
    "    tmp.rename_axis('sample', inplace=True)\n",
    "    tmp['site'] = ''\n",
    "    tmp['group'] = '0'\n",
    "    tmp.to_csv('meta.tsv', sep='\\t')"
   ]
  },
  {
   "cell_type": "code",
   "execution_count": null,
   "metadata": {},
   "outputs": [],
   "source": []
  },
  {
   "cell_type": "markdown",
   "metadata": {},
   "source": [
    "## Load metadata file\n",
    "sets:\n",
    "sample_ids, sample_idxs, meta"
   ]
  },
  {
   "cell_type": "code",
   "execution_count": 10,
   "metadata": {},
   "outputs": [],
   "source": [
    "meta = pd.read_excel(META_FN,\n",
    "                     skiprows=0)\n",
    "meta.set_index('banked_sample_id', inplace=True)\n",
    "meta_all_samples = meta.index.values\n",
    "\n",
    "# reorder to match order in callset (callset_all_sample_ids)\n",
    "callset_samples = list(callset[list(callset.keys())[0]]['samples'])\n",
    "meta = meta.reindex([x for x in callset_samples if x in meta.index.values])\n",
    "sample_ids = meta.index.values\n",
    "sample_idxs = [callset_samples.index(x) for x in sample_ids]\n",
    "meta['idx'] = pd.Series(sample_idxs, index=meta.index)"
   ]
  },
  {
   "cell_type": "code",
   "execution_count": 11,
   "metadata": {},
   "outputs": [
    {
     "data": {
      "text/html": [
       "<div>\n",
       "<style scoped>\n",
       "    .dataframe tbody tr th:only-of-type {\n",
       "        vertical-align: middle;\n",
       "    }\n",
       "\n",
       "    .dataframe tbody tr th {\n",
       "        vertical-align: top;\n",
       "    }\n",
       "\n",
       "    .dataframe thead th {\n",
       "        text-align: right;\n",
       "    }\n",
       "</style>\n",
       "<table border=\"1\" class=\"dataframe\">\n",
       "  <thead>\n",
       "    <tr style=\"text-align: right;\">\n",
       "      <th></th>\n",
       "      <th>Collection_Location</th>\n",
       "      <th>Regions</th>\n",
       "      <th>District</th>\n",
       "      <th>ID</th>\n",
       "      <th>idx</th>\n",
       "    </tr>\n",
       "    <tr>\n",
       "      <th>banked_sample_id</th>\n",
       "      <th></th>\n",
       "      <th></th>\n",
       "      <th></th>\n",
       "      <th></th>\n",
       "      <th></th>\n",
       "    </tr>\n",
       "  </thead>\n",
       "  <tbody>\n",
       "    <tr>\n",
       "      <th>Ae17ORA045</th>\n",
       "      <td>California</td>\n",
       "      <td>California</td>\n",
       "      <td>California</td>\n",
       "      <td>Ae17ORA045</td>\n",
       "      <td>0</td>\n",
       "    </tr>\n",
       "    <tr>\n",
       "      <th>Ae17GLA019</th>\n",
       "      <td>California</td>\n",
       "      <td>California</td>\n",
       "      <td>California</td>\n",
       "      <td>Ae17GLA019</td>\n",
       "      <td>1</td>\n",
       "    </tr>\n",
       "    <tr>\n",
       "      <th>Ab22HMR4-002</th>\n",
       "      <td>Oahu</td>\n",
       "      <td>Oahu</td>\n",
       "      <td>Oahu</td>\n",
       "      <td>Ab22HMR4-002</td>\n",
       "      <td>2</td>\n",
       "    </tr>\n",
       "    <tr>\n",
       "      <th>Ab22HMR4-001</th>\n",
       "      <td>Oahu</td>\n",
       "      <td>Oahu</td>\n",
       "      <td>Oahu</td>\n",
       "      <td>Ab22HMR4-001</td>\n",
       "      <td>3</td>\n",
       "    </tr>\n",
       "    <tr>\n",
       "      <th>Ab21GELI003</th>\n",
       "      <td>RMI</td>\n",
       "      <td>RMI</td>\n",
       "      <td>RMI</td>\n",
       "      <td>Ab21GELI003</td>\n",
       "      <td>4</td>\n",
       "    </tr>\n",
       "    <tr>\n",
       "      <th>...</th>\n",
       "      <td>...</td>\n",
       "      <td>...</td>\n",
       "      <td>...</td>\n",
       "      <td>...</td>\n",
       "      <td>...</td>\n",
       "    </tr>\n",
       "    <tr>\n",
       "      <th>Ab23HNL003</th>\n",
       "      <td>Oahu</td>\n",
       "      <td>Oahu</td>\n",
       "      <td>Oahu</td>\n",
       "      <td>Ab23HNL003</td>\n",
       "      <td>130</td>\n",
       "    </tr>\n",
       "    <tr>\n",
       "      <th>Ab23HNL004</th>\n",
       "      <td>Oahu</td>\n",
       "      <td>Oahu</td>\n",
       "      <td>Oahu</td>\n",
       "      <td>Ab23HNL004</td>\n",
       "      <td>131</td>\n",
       "    </tr>\n",
       "    <tr>\n",
       "      <th>AbKAHO113</th>\n",
       "      <td>Big Island</td>\n",
       "      <td>Big Island</td>\n",
       "      <td>Big Island</td>\n",
       "      <td>AbKAHO113</td>\n",
       "      <td>132</td>\n",
       "    </tr>\n",
       "    <tr>\n",
       "      <th>Ab21SHIPMN002</th>\n",
       "      <td>Big Island</td>\n",
       "      <td>Big Island</td>\n",
       "      <td>Big Island</td>\n",
       "      <td>Ab21SHIPMN002</td>\n",
       "      <td>133</td>\n",
       "    </tr>\n",
       "    <tr>\n",
       "      <th>AbKAHO116</th>\n",
       "      <td>Big Island</td>\n",
       "      <td>Big Island</td>\n",
       "      <td>Big Island</td>\n",
       "      <td>AbKAHO116</td>\n",
       "      <td>134</td>\n",
       "    </tr>\n",
       "  </tbody>\n",
       "</table>\n",
       "<p>133 rows × 5 columns</p>\n",
       "</div>"
      ],
      "text/plain": [
       "                 Collection_Location     Regions    District             ID  \\\n",
       "banked_sample_id                                                              \n",
       "Ae17ORA045                California  California  California     Ae17ORA045   \n",
       "Ae17GLA019                California  California  California     Ae17GLA019   \n",
       "Ab22HMR4-002                    Oahu        Oahu        Oahu   Ab22HMR4-002   \n",
       "Ab22HMR4-001                    Oahu        Oahu        Oahu   Ab22HMR4-001   \n",
       "Ab21GELI003                      RMI         RMI         RMI    Ab21GELI003   \n",
       "...                              ...         ...         ...            ...   \n",
       "Ab23HNL003                      Oahu        Oahu        Oahu     Ab23HNL003   \n",
       "Ab23HNL004                      Oahu        Oahu        Oahu     Ab23HNL004   \n",
       "AbKAHO113                 Big Island  Big Island  Big Island      AbKAHO113   \n",
       "Ab21SHIPMN002             Big Island  Big Island  Big Island  Ab21SHIPMN002   \n",
       "AbKAHO116                 Big Island  Big Island  Big Island      AbKAHO116   \n",
       "\n",
       "                  idx  \n",
       "banked_sample_id       \n",
       "Ae17ORA045          0  \n",
       "Ae17GLA019          1  \n",
       "Ab22HMR4-002        2  \n",
       "Ab22HMR4-001        3  \n",
       "Ab21GELI003         4  \n",
       "...               ...  \n",
       "Ab23HNL003        130  \n",
       "Ab23HNL004        131  \n",
       "AbKAHO113         132  \n",
       "Ab21SHIPMN002     133  \n",
       "AbKAHO116         134  \n",
       "\n",
       "[133 rows x 5 columns]"
      ]
     },
     "execution_count": 11,
     "metadata": {},
     "output_type": "execute_result"
    }
   ],
   "source": [
    "meta"
   ]
  },
  {
   "cell_type": "code",
   "execution_count": 12,
   "metadata": {},
   "outputs": [
    {
     "data": {
      "text/plain": [
       "(133, 5)"
      ]
     },
     "execution_count": 12,
     "metadata": {},
     "output_type": "execute_result"
    }
   ],
   "source": [
    "meta.shape"
   ]
  },
  {
   "cell_type": "code",
   "execution_count": null,
   "metadata": {},
   "outputs": [],
   "source": []
  },
  {
   "cell_type": "code",
   "execution_count": 13,
   "metadata": {},
   "outputs": [
    {
     "data": {
      "text/html": [
       "<div>\n",
       "<style scoped>\n",
       "    .dataframe tbody tr th:only-of-type {\n",
       "        vertical-align: middle;\n",
       "    }\n",
       "\n",
       "    .dataframe tbody tr th {\n",
       "        vertical-align: top;\n",
       "    }\n",
       "\n",
       "    .dataframe thead th {\n",
       "        text-align: right;\n",
       "    }\n",
       "</style>\n",
       "<table border=\"1\" class=\"dataframe\">\n",
       "  <thead>\n",
       "    <tr style=\"text-align: right;\">\n",
       "      <th></th>\n",
       "      <th>Collection_Location</th>\n",
       "      <th>Regions</th>\n",
       "      <th>District</th>\n",
       "      <th>ID</th>\n",
       "      <th>idx</th>\n",
       "      <th>group</th>\n",
       "    </tr>\n",
       "    <tr>\n",
       "      <th>banked_sample_id</th>\n",
       "      <th></th>\n",
       "      <th></th>\n",
       "      <th></th>\n",
       "      <th></th>\n",
       "      <th></th>\n",
       "      <th></th>\n",
       "    </tr>\n",
       "  </thead>\n",
       "  <tbody>\n",
       "    <tr>\n",
       "      <th>Ae17ORA045</th>\n",
       "      <td>California</td>\n",
       "      <td>California</td>\n",
       "      <td>California</td>\n",
       "      <td>Ae17ORA045</td>\n",
       "      <td>0</td>\n",
       "      <td>California</td>\n",
       "    </tr>\n",
       "    <tr>\n",
       "      <th>Ae17GLA019</th>\n",
       "      <td>California</td>\n",
       "      <td>California</td>\n",
       "      <td>California</td>\n",
       "      <td>Ae17GLA019</td>\n",
       "      <td>1</td>\n",
       "      <td>California</td>\n",
       "    </tr>\n",
       "    <tr>\n",
       "      <th>Ab22HMR4-002</th>\n",
       "      <td>Oahu</td>\n",
       "      <td>Oahu</td>\n",
       "      <td>Oahu</td>\n",
       "      <td>Ab22HMR4-002</td>\n",
       "      <td>2</td>\n",
       "      <td>Oahu</td>\n",
       "    </tr>\n",
       "    <tr>\n",
       "      <th>Ab22HMR4-001</th>\n",
       "      <td>Oahu</td>\n",
       "      <td>Oahu</td>\n",
       "      <td>Oahu</td>\n",
       "      <td>Ab22HMR4-001</td>\n",
       "      <td>3</td>\n",
       "      <td>Oahu</td>\n",
       "    </tr>\n",
       "    <tr>\n",
       "      <th>Ab21GELI003</th>\n",
       "      <td>RMI</td>\n",
       "      <td>RMI</td>\n",
       "      <td>RMI</td>\n",
       "      <td>Ab21GELI003</td>\n",
       "      <td>4</td>\n",
       "      <td>RMI</td>\n",
       "    </tr>\n",
       "    <tr>\n",
       "      <th>...</th>\n",
       "      <td>...</td>\n",
       "      <td>...</td>\n",
       "      <td>...</td>\n",
       "      <td>...</td>\n",
       "      <td>...</td>\n",
       "      <td>...</td>\n",
       "    </tr>\n",
       "    <tr>\n",
       "      <th>Ab23HNL003</th>\n",
       "      <td>Oahu</td>\n",
       "      <td>Oahu</td>\n",
       "      <td>Oahu</td>\n",
       "      <td>Ab23HNL003</td>\n",
       "      <td>130</td>\n",
       "      <td>Oahu</td>\n",
       "    </tr>\n",
       "    <tr>\n",
       "      <th>Ab23HNL004</th>\n",
       "      <td>Oahu</td>\n",
       "      <td>Oahu</td>\n",
       "      <td>Oahu</td>\n",
       "      <td>Ab23HNL004</td>\n",
       "      <td>131</td>\n",
       "      <td>Oahu</td>\n",
       "    </tr>\n",
       "    <tr>\n",
       "      <th>AbKAHO113</th>\n",
       "      <td>Big Island</td>\n",
       "      <td>Big Island</td>\n",
       "      <td>Big Island</td>\n",
       "      <td>AbKAHO113</td>\n",
       "      <td>132</td>\n",
       "      <td>Big Island</td>\n",
       "    </tr>\n",
       "    <tr>\n",
       "      <th>Ab21SHIPMN002</th>\n",
       "      <td>Big Island</td>\n",
       "      <td>Big Island</td>\n",
       "      <td>Big Island</td>\n",
       "      <td>Ab21SHIPMN002</td>\n",
       "      <td>133</td>\n",
       "      <td>Big Island</td>\n",
       "    </tr>\n",
       "    <tr>\n",
       "      <th>AbKAHO116</th>\n",
       "      <td>Big Island</td>\n",
       "      <td>Big Island</td>\n",
       "      <td>Big Island</td>\n",
       "      <td>AbKAHO116</td>\n",
       "      <td>134</td>\n",
       "      <td>Big Island</td>\n",
       "    </tr>\n",
       "  </tbody>\n",
       "</table>\n",
       "<p>133 rows × 6 columns</p>\n",
       "</div>"
      ],
      "text/plain": [
       "                 Collection_Location     Regions    District             ID  \\\n",
       "banked_sample_id                                                              \n",
       "Ae17ORA045                California  California  California     Ae17ORA045   \n",
       "Ae17GLA019                California  California  California     Ae17GLA019   \n",
       "Ab22HMR4-002                    Oahu        Oahu        Oahu   Ab22HMR4-002   \n",
       "Ab22HMR4-001                    Oahu        Oahu        Oahu   Ab22HMR4-001   \n",
       "Ab21GELI003                      RMI         RMI         RMI    Ab21GELI003   \n",
       "...                              ...         ...         ...            ...   \n",
       "Ab23HNL003                      Oahu        Oahu        Oahu     Ab23HNL003   \n",
       "Ab23HNL004                      Oahu        Oahu        Oahu     Ab23HNL004   \n",
       "AbKAHO113                 Big Island  Big Island  Big Island      AbKAHO113   \n",
       "Ab21SHIPMN002             Big Island  Big Island  Big Island  Ab21SHIPMN002   \n",
       "AbKAHO116                 Big Island  Big Island  Big Island      AbKAHO116   \n",
       "\n",
       "                  idx       group  \n",
       "banked_sample_id                   \n",
       "Ae17ORA045          0  California  \n",
       "Ae17GLA019          1  California  \n",
       "Ab22HMR4-002        2        Oahu  \n",
       "Ab22HMR4-001        3        Oahu  \n",
       "Ab21GELI003         4         RMI  \n",
       "...               ...         ...  \n",
       "Ab23HNL003        130        Oahu  \n",
       "Ab23HNL004        131        Oahu  \n",
       "AbKAHO113         132  Big Island  \n",
       "Ab21SHIPMN002     133  Big Island  \n",
       "AbKAHO116         134  Big Island  \n",
       "\n",
       "[133 rows x 6 columns]"
      ]
     },
     "execution_count": 13,
     "metadata": {},
     "output_type": "execute_result"
    }
   ],
   "source": [
    "# makeing the group column\n",
    "meta['group'] = meta['Collection_Location'].fillna('Unknown')\n",
    "# meta['group'] = meta[['Collection\\nLocation','Year']].agg(lambda x:f'{x[0]}-{x[1]}', axis=1)\n",
    "meta"
   ]
  },
  {
   "cell_type": "code",
   "execution_count": 14,
   "metadata": {
    "ExecuteTime": {
     "end_time": "2019-01-18T01:35:18.211361Z",
     "start_time": "2019-01-18T01:35:18.093698Z"
    },
    "scrolled": true
   },
   "outputs": [],
   "source": [
    "# # load metadata\n",
    "# \"\"\"reads a tsv/csv file into a pandas dataframe\n",
    "# reorders to match order in callset_all_sample_ids\n",
    "# adds 'idx' column\n",
    "# \"\"\"\n",
    "# callset_samples = list(callset[list(callset.keys())[0]]['samples'])\n",
    "# sep = '\\t'\n",
    "# header_lines = 0\n",
    "# sample_column_idx = 0\n",
    "# sample_ids_to_drop = 0\n",
    "\n",
    "# meta = pd.read_csv(META_FN, sep=sep, header=header_lines,\n",
    "#                    index_col=sample_column_idx, comment='#')\n",
    "# # Removing samples if requested\n",
    "# if sample_ids_to_drop:\n",
    "#     for s in sample_ids_to_drop: # Drop one at a time so we can tolerate already missing samples\n",
    "#         try:\n",
    "#             meta.drop((s), inplace=True)\n",
    "#         except ValueError as e:\n",
    "#             print('WARNING:', e, file=sys.stderr)\n",
    "# # reorder to match order in callset (callset_all_sample_ids)\n",
    "# meta = meta.reindex([x for x in callset_samples if x in meta.index.values])\n",
    "# # display(meta)\n",
    "# sample_ids = meta.index.values\n",
    "# sample_idxs = [callset_samples.index(x) for x in sample_ids]\n",
    "# meta['idx'] = pd.Series(sample_idxs, index=meta.index)\n",
    "\n",
    "# # sample_ids, sample_idxs, meta\n",
    "# meta"
   ]
  },
  {
   "cell_type": "code",
   "execution_count": 15,
   "metadata": {},
   "outputs": [],
   "source": [
    "meta[GROUP_COL] = meta[GROUP_COL].astype('string')"
   ]
  },
  {
   "cell_type": "code",
   "execution_count": 16,
   "metadata": {},
   "outputs": [
    {
     "data": {
      "text/plain": [
       "(133, 6)"
      ]
     },
     "execution_count": 16,
     "metadata": {},
     "output_type": "execute_result"
    }
   ],
   "source": [
    "meta.shape"
   ]
  },
  {
   "cell_type": "code",
   "execution_count": 17,
   "metadata": {},
   "outputs": [],
   "source": [
    "# # @TCC TEMP\n",
    "# # excluding some samples\n",
    "# meta = meta[~meta['group'].str.startswith('Ennugarret')]\n",
    "# meta = meta[~meta['group'].str.startswith('Illigini')]\n",
    "# meta = meta[~meta['group'].str.startswith('Roi')]\n",
    "\n",
    "# # need to update the sample idxs\n",
    "# sample_ids = meta.index.values\n",
    "# sample_idxs = [callset_samples.index(x) for x in sample_ids]\n",
    "# meta['idx'] = pd.Series(sample_idxs, index=meta.index)\n",
    "# meta.shape"
   ]
  },
  {
   "cell_type": "code",
   "execution_count": null,
   "metadata": {},
   "outputs": [],
   "source": []
  },
  {
   "cell_type": "markdown",
   "metadata": {},
   "source": [
    "## Reading the actual variation data"
   ]
  },
  {
   "cell_type": "code",
   "execution_count": 18,
   "metadata": {
    "ExecuteTime": {
     "end_time": "2019-01-18T01:36:23.743245Z",
     "start_time": "2019-01-18T01:35:18.212726Z"
    }
   },
   "outputs": [
    {
     "name": "stdout",
     "output_type": "stream",
     "text": [
      "CPU times: user 2min 10s, sys: 6.01 s, total: 2min 16s\n",
      "Wall time: 1min 14s\n"
     ]
    }
   ],
   "source": [
    "%%time\n",
    "QUIET = True\n",
    "\n",
    "g_dict = OrderedDict()\n",
    "pos_dict = OrderedDict()\n",
    "for ch in CHROMS:\n",
    "    if not QUIET: print(\"Chrom:\", ch)\n",
    "    g = allel.GenotypeDaskArray(callset[ch]['calldata/GT']).take(sample_idxs, axis=1)\n",
    "    pos = allel.SortedIndex(callset[ch]['variants/POS'])\n",
    "        \n",
    "    ## Filtering\n",
    "    num_loci_in = g.shape[0]\n",
    "    flt = np.ones(num_loci_in, dtype=bool)\n",
    "    ac = None\n",
    "    if not QUIET: print('total number of loci =',flt.shape[0])\n",
    "    \n",
    "    # filter genotypes on FMT:DP\n",
    "    if MIN_FMTDP and MIN_FMTDP > 0:\n",
    "        genoflt_FMTDP = callset[ch]['calldata/DP'][:].take(sample_idxs, axis=1) < MIN_FMTDP\n",
    "        g = g.compute() # must convert GenotypeDaskArray to GenotypeArray for next assignment to work\n",
    "        g[genoflt_FMTDP] = [-1,-1]\n",
    "        tmp_num_calls = g.shape[0]*g.shape[1]\n",
    "        tmp = np.count_nonzero(genoflt_FMTDP)\n",
    "        if not QUIET: print('{} genotype call of {} ({:02.2f}%) fail FMT:DP filter'.format(\n",
    "               tmp, tmp_num_calls, 100*tmp/float(tmp_num_calls)))\n",
    "\n",
    "    if FILTER_SNP:\n",
    "        flt_snp = np.all(np.logical_or(callset[ch]['variants/TYPE'][:] == 'snp',\n",
    "                                       callset[ch]['variants/TYPE'][:] == ''), axis=1)\n",
    "        flt = np.array(flt & flt_snp)\n",
    "        if not QUIET: print('=',np.count_nonzero(flt), 'passing previous filters & SNP')\n",
    "        \n",
    "    if FILTER_BIALLELIC:\n",
    "        if ac is None:\n",
    "            ac = g.count_alleles()\n",
    "        flt_biallelic = ac.allelism() == 2\n",
    "        flt = np.array(flt & flt_biallelic)\n",
    "        if not QUIET: print('=',np.count_nonzero(flt), 'passing previous filters & biallelic')\n",
    "        \n",
    "    # filter max_missing (genotype calls)\n",
    "    if MAX_MISSING is not None and MAX_MISSING < len(sample_idxs):\n",
    "        flt_max_missing = np.sum(g.is_missing(), axis=1) <= MAX_MISSING\n",
    "        tmp = num_loci_in - np.count_nonzero(flt_max_missing)\n",
    "        if not QUIET: print('{} loci of {} ({:02.2f}%) have > {} missing genotypes'.format(\n",
    "               tmp, num_loci_in, 100*tmp/float(num_loci_in), MAX_MISSING))\n",
    "        flt = np.array(flt & flt_max_missing)\n",
    "        if not QUIET: print('=',np.count_nonzero(flt), 'passing previous filters & max_missing')\n",
    "        \n",
    "    ## Apply filter\n",
    "    g_dict[ch] = g.compress(flt, axis=0)\n",
    "    pos_dict[ch] = pos.compress(flt, axis=0)\n"
   ]
  },
  {
   "cell_type": "code",
   "execution_count": 19,
   "metadata": {
    "ExecuteTime": {
     "end_time": "2019-01-18T01:36:23.752056Z",
     "start_time": "2019-01-18T01:36:23.744540Z"
    }
   },
   "outputs": [
    {
     "data": {
      "text/plain": [
       "821"
      ]
     },
     "execution_count": 19,
     "metadata": {},
     "output_type": "execute_result"
    }
   ],
   "source": [
    "len(g_dict)"
   ]
  },
  {
   "cell_type": "code",
   "execution_count": 20,
   "metadata": {
    "ExecuteTime": {
     "end_time": "2019-01-18T01:36:23.757906Z",
     "start_time": "2019-01-18T01:36:23.753406Z"
    },
    "scrolled": true
   },
   "outputs": [
    {
     "name": "stdout",
     "output_type": "stream",
     "text": [
      "Total loci passing all filters 306831\n"
     ]
    }
   ],
   "source": [
    "print(\"Total loci passing all filters\", sum([_.shape[0] for _ in g_dict.values()]))"
   ]
  },
  {
   "cell_type": "markdown",
   "metadata": {},
   "source": [
    "## Combine GenotypeArrays into a single one"
   ]
  },
  {
   "cell_type": "code",
   "execution_count": 21,
   "metadata": {
    "ExecuteTime": {
     "end_time": "2019-01-18T01:36:23.844355Z",
     "start_time": "2019-01-18T01:36:23.759274Z"
    },
    "scrolled": true
   },
   "outputs": [],
   "source": [
    "tmp = list(g_dict.keys())\n",
    "all_g = g_dict[tmp[0]]\n",
    "all_g = all_g.concatenate([g_dict[ch] for ch in tmp[1:]])"
   ]
  },
  {
   "cell_type": "code",
   "execution_count": 22,
   "metadata": {
    "ExecuteTime": {
     "end_time": "2019-01-18T01:36:23.853540Z",
     "start_time": "2019-01-18T01:36:23.846170Z"
    }
   },
   "outputs": [
    {
     "data": {
      "text/html": [
       "<div class=\"allel allel-DisplayAs2D\"><span>&lt;GenotypeArray shape=(306831, 133, 2) dtype=int8&gt;</span><table><thead><tr><th></th><th style=\"text-align: center\">0</th><th style=\"text-align: center\">1</th><th style=\"text-align: center\">2</th><th style=\"text-align: center\">3</th><th style=\"text-align: center\">4</th><th style=\"text-align: center\">...</th><th style=\"text-align: center\">128</th><th style=\"text-align: center\">129</th><th style=\"text-align: center\">130</th><th style=\"text-align: center\">131</th><th style=\"text-align: center\">132</th></tr></thead><tbody><tr><th style=\"text-align: center; background-color: white; border-right: 1px solid black; \">0</th><td style=\"text-align: center\">0/0</td><td style=\"text-align: center\">0/0</td><td style=\"text-align: center\">0/0</td><td style=\"text-align: center\">0/0</td><td style=\"text-align: center\">0/0</td><td style=\"text-align: center\">...</td><td style=\"text-align: center\">0/0</td><td style=\"text-align: center\">0/0</td><td style=\"text-align: center\">0/1</td><td style=\"text-align: center\">0/0</td><td style=\"text-align: center\">0/0</td></tr><tr><th style=\"text-align: center; background-color: white; border-right: 1px solid black; \">1</th><td style=\"text-align: center\">0/0</td><td style=\"text-align: center\">0/0</td><td style=\"text-align: center\">0/0</td><td style=\"text-align: center\">0/0</td><td style=\"text-align: center\">0/0</td><td style=\"text-align: center\">...</td><td style=\"text-align: center\">0/0</td><td style=\"text-align: center\">0/0</td><td style=\"text-align: center\">0/0</td><td style=\"text-align: center\">0/0</td><td style=\"text-align: center\">0/0</td></tr><tr><th style=\"text-align: center; background-color: white; border-right: 1px solid black; \">2</th><td style=\"text-align: center\">0/0</td><td style=\"text-align: center\">0/0</td><td style=\"text-align: center\">0/0</td><td style=\"text-align: center\">0/0</td><td style=\"text-align: center\">0/0</td><td style=\"text-align: center\">...</td><td style=\"text-align: center\">0/0</td><td style=\"text-align: center\">0/0</td><td style=\"text-align: center\">0/0</td><td style=\"text-align: center\">0/0</td><td style=\"text-align: center\">0/0</td></tr><tr><th style=\"text-align: center; background-color: white; border-right: 1px solid black; \">...</th><td style=\"text-align: center\" colspan=\"12\">...</td></tr><tr><th style=\"text-align: center; background-color: white; border-right: 1px solid black; \">306828</th><td style=\"text-align: center\">0/0</td><td style=\"text-align: center\">0/0</td><td style=\"text-align: center\">0/0</td><td style=\"text-align: center\">0/0</td><td style=\"text-align: center\">0/0</td><td style=\"text-align: center\">...</td><td style=\"text-align: center\">0/0</td><td style=\"text-align: center\">0/0</td><td style=\"text-align: center\">0/1</td><td style=\"text-align: center\">0/1</td><td style=\"text-align: center\">0/0</td></tr><tr><th style=\"text-align: center; background-color: white; border-right: 1px solid black; \">306829</th><td style=\"text-align: center\">0/1</td><td style=\"text-align: center\">0/1</td><td style=\"text-align: center\">0/1</td><td style=\"text-align: center\">0/0</td><td style=\"text-align: center\">0/1</td><td style=\"text-align: center\">...</td><td style=\"text-align: center\">0/1</td><td style=\"text-align: center\">0/0</td><td style=\"text-align: center\">0/1</td><td style=\"text-align: center\">0/0</td><td style=\"text-align: center\">0/1</td></tr><tr><th style=\"text-align: center; background-color: white; border-right: 1px solid black; \">306830</th><td style=\"text-align: center\">0/1</td><td style=\"text-align: center\">0/0</td><td style=\"text-align: center\">0/0</td><td style=\"text-align: center\">0/1</td><td style=\"text-align: center\">0/1</td><td style=\"text-align: center\">...</td><td style=\"text-align: center\">0/0</td><td style=\"text-align: center\">0/1</td><td style=\"text-align: center\">0/0</td><td style=\"text-align: center\">0/1</td><td style=\"text-align: center\">0/1</td></tr></tbody></table></div>"
      ],
      "text/plain": [
       "<GenotypeArray shape=(306831, 133, 2) dtype=int8>\n",
       "0/0 0/0 0/0 0/0 0/0 ... 0/0 0/0 0/1 0/0 0/0\n",
       "0/0 0/0 0/0 0/0 0/0 ... 0/0 0/0 0/0 0/0 0/0\n",
       "0/0 0/0 0/0 0/0 0/0 ... 0/0 0/0 0/0 0/0 0/0\n",
       "...\n",
       "0/0 0/0 0/0 0/0 0/0 ... 0/0 0/0 0/1 0/1 0/0\n",
       "0/1 0/1 0/1 0/0 0/1 ... 0/1 0/0 0/1 0/0 0/1\n",
       "0/1 0/0 0/0 0/1 0/1 ... 0/0 0/1 0/0 0/1 0/1"
      ]
     },
     "execution_count": 22,
     "metadata": {},
     "output_type": "execute_result"
    }
   ],
   "source": [
    "# display(CHROMS)\n",
    "all_g"
   ]
  },
  {
   "cell_type": "code",
   "execution_count": 23,
   "metadata": {
    "ExecuteTime": {
     "end_time": "2019-01-18T01:36:23.932699Z",
     "start_time": "2019-01-18T01:36:23.855182Z"
    }
   },
   "outputs": [],
   "source": [
    "# g = all_g.copy()\n",
    "g = allel.GenotypeArray(all_g)"
   ]
  },
  {
   "cell_type": "markdown",
   "metadata": {},
   "source": [
    "## Add reference as a virtual sample"
   ]
  },
  {
   "cell_type": "code",
   "execution_count": 24,
   "metadata": {
    "ExecuteTime": {
     "end_time": "2019-01-18T01:36:24.141271Z",
     "start_time": "2019-01-18T01:36:23.934153Z"
    }
   },
   "outputs": [],
   "source": [
    "if ADD_REFERENCE:\n",
    "    g = g.concatenate(allel.GenotypeArray(np.zeros([g.shape[0],1,2],dtype=np.int8),g), axis=1)\n",
    "    meta = pd.concat([meta, \n",
    "                      pd.DataFrame({'group':'Reference', 'site':'Reference', 'idx':g.shape[1]-1}, \n",
    "                                    index=['Reference'])], \n",
    "                      sort=True)"
   ]
  },
  {
   "cell_type": "code",
   "execution_count": 25,
   "metadata": {
    "ExecuteTime": {
     "end_time": "2019-01-18T01:36:24.148241Z",
     "start_time": "2019-01-18T01:36:24.142571Z"
    },
    "scrolled": true
   },
   "outputs": [
    {
     "data": {
      "text/html": [
       "<div class=\"allel allel-DisplayAs2D\"><span>&lt;GenotypeArray shape=(306831, 133, 2) dtype=int8&gt;</span><table><thead><tr><th></th><th style=\"text-align: center\">0</th><th style=\"text-align: center\">1</th><th style=\"text-align: center\">2</th><th style=\"text-align: center\">3</th><th style=\"text-align: center\">4</th><th style=\"text-align: center\">...</th><th style=\"text-align: center\">128</th><th style=\"text-align: center\">129</th><th style=\"text-align: center\">130</th><th style=\"text-align: center\">131</th><th style=\"text-align: center\">132</th></tr></thead><tbody><tr><th style=\"text-align: center; background-color: white; border-right: 1px solid black; \">0</th><td style=\"text-align: center\">0/0</td><td style=\"text-align: center\">0/0</td><td style=\"text-align: center\">0/0</td><td style=\"text-align: center\">0/0</td><td style=\"text-align: center\">0/0</td><td style=\"text-align: center\">...</td><td style=\"text-align: center\">0/0</td><td style=\"text-align: center\">0/0</td><td style=\"text-align: center\">0/1</td><td style=\"text-align: center\">0/0</td><td style=\"text-align: center\">0/0</td></tr><tr><th style=\"text-align: center; background-color: white; border-right: 1px solid black; \">1</th><td style=\"text-align: center\">0/0</td><td style=\"text-align: center\">0/0</td><td style=\"text-align: center\">0/0</td><td style=\"text-align: center\">0/0</td><td style=\"text-align: center\">0/0</td><td style=\"text-align: center\">...</td><td style=\"text-align: center\">0/0</td><td style=\"text-align: center\">0/0</td><td style=\"text-align: center\">0/0</td><td style=\"text-align: center\">0/0</td><td style=\"text-align: center\">0/0</td></tr><tr><th style=\"text-align: center; background-color: white; border-right: 1px solid black; \">2</th><td style=\"text-align: center\">0/0</td><td style=\"text-align: center\">0/0</td><td style=\"text-align: center\">0/0</td><td style=\"text-align: center\">0/0</td><td style=\"text-align: center\">0/0</td><td style=\"text-align: center\">...</td><td style=\"text-align: center\">0/0</td><td style=\"text-align: center\">0/0</td><td style=\"text-align: center\">0/0</td><td style=\"text-align: center\">0/0</td><td style=\"text-align: center\">0/0</td></tr><tr><th style=\"text-align: center; background-color: white; border-right: 1px solid black; \">...</th><td style=\"text-align: center\" colspan=\"12\">...</td></tr><tr><th style=\"text-align: center; background-color: white; border-right: 1px solid black; \">306828</th><td style=\"text-align: center\">0/0</td><td style=\"text-align: center\">0/0</td><td style=\"text-align: center\">0/0</td><td style=\"text-align: center\">0/0</td><td style=\"text-align: center\">0/0</td><td style=\"text-align: center\">...</td><td style=\"text-align: center\">0/0</td><td style=\"text-align: center\">0/0</td><td style=\"text-align: center\">0/1</td><td style=\"text-align: center\">0/1</td><td style=\"text-align: center\">0/0</td></tr><tr><th style=\"text-align: center; background-color: white; border-right: 1px solid black; \">306829</th><td style=\"text-align: center\">0/1</td><td style=\"text-align: center\">0/1</td><td style=\"text-align: center\">0/1</td><td style=\"text-align: center\">0/0</td><td style=\"text-align: center\">0/1</td><td style=\"text-align: center\">...</td><td style=\"text-align: center\">0/1</td><td style=\"text-align: center\">0/0</td><td style=\"text-align: center\">0/1</td><td style=\"text-align: center\">0/0</td><td style=\"text-align: center\">0/1</td></tr><tr><th style=\"text-align: center; background-color: white; border-right: 1px solid black; \">306830</th><td style=\"text-align: center\">0/1</td><td style=\"text-align: center\">0/0</td><td style=\"text-align: center\">0/0</td><td style=\"text-align: center\">0/1</td><td style=\"text-align: center\">0/1</td><td style=\"text-align: center\">...</td><td style=\"text-align: center\">0/0</td><td style=\"text-align: center\">0/1</td><td style=\"text-align: center\">0/0</td><td style=\"text-align: center\">0/1</td><td style=\"text-align: center\">0/1</td></tr></tbody></table></div>"
      ],
      "text/plain": [
       "<GenotypeArray shape=(306831, 133, 2) dtype=int8>\n",
       "0/0 0/0 0/0 0/0 0/0 ... 0/0 0/0 0/1 0/0 0/0\n",
       "0/0 0/0 0/0 0/0 0/0 ... 0/0 0/0 0/0 0/0 0/0\n",
       "0/0 0/0 0/0 0/0 0/0 ... 0/0 0/0 0/0 0/0 0/0\n",
       "...\n",
       "0/0 0/0 0/0 0/0 0/0 ... 0/0 0/0 0/1 0/1 0/0\n",
       "0/1 0/1 0/1 0/0 0/1 ... 0/1 0/0 0/1 0/0 0/1\n",
       "0/1 0/0 0/0 0/1 0/1 ... 0/0 0/1 0/0 0/1 0/1"
      ]
     },
     "execution_count": 25,
     "metadata": {},
     "output_type": "execute_result"
    }
   ],
   "source": [
    "g"
   ]
  },
  {
   "cell_type": "code",
   "execution_count": 26,
   "metadata": {},
   "outputs": [
    {
     "name": "stdout",
     "output_type": "stream",
     "text": [
      "Collection_Location    string[python]\n",
      "Regions                        object\n",
      "District                       object\n",
      "ID                             object\n",
      "idx                             int64\n",
      "group                          object\n",
      "dtype: object\n"
     ]
    }
   ],
   "source": [
    "print(meta.dtypes)"
   ]
  },
  {
   "cell_type": "code",
   "execution_count": 27,
   "metadata": {
    "ExecuteTime": {
     "end_time": "2019-01-18T01:36:24.166997Z",
     "start_time": "2019-01-18T01:36:24.149490Z"
    }
   },
   "outputs": [
    {
     "data": {
      "text/html": [
       "<div>\n",
       "<style scoped>\n",
       "    .dataframe tbody tr th:only-of-type {\n",
       "        vertical-align: middle;\n",
       "    }\n",
       "\n",
       "    .dataframe tbody tr th {\n",
       "        vertical-align: top;\n",
       "    }\n",
       "\n",
       "    .dataframe thead th {\n",
       "        text-align: right;\n",
       "    }\n",
       "</style>\n",
       "<table border=\"1\" class=\"dataframe\">\n",
       "  <thead>\n",
       "    <tr style=\"text-align: right;\">\n",
       "      <th></th>\n",
       "      <th>Collection_Location</th>\n",
       "      <th>Regions</th>\n",
       "      <th>District</th>\n",
       "      <th>ID</th>\n",
       "      <th>idx</th>\n",
       "      <th>group</th>\n",
       "    </tr>\n",
       "    <tr>\n",
       "      <th>banked_sample_id</th>\n",
       "      <th></th>\n",
       "      <th></th>\n",
       "      <th></th>\n",
       "      <th></th>\n",
       "      <th></th>\n",
       "      <th></th>\n",
       "    </tr>\n",
       "  </thead>\n",
       "  <tbody>\n",
       "    <tr>\n",
       "      <th>Ae17ORA045</th>\n",
       "      <td>California</td>\n",
       "      <td>California</td>\n",
       "      <td>California</td>\n",
       "      <td>Ae17ORA045</td>\n",
       "      <td>0</td>\n",
       "      <td>California</td>\n",
       "    </tr>\n",
       "    <tr>\n",
       "      <th>Ae17GLA019</th>\n",
       "      <td>California</td>\n",
       "      <td>California</td>\n",
       "      <td>California</td>\n",
       "      <td>Ae17GLA019</td>\n",
       "      <td>1</td>\n",
       "      <td>California</td>\n",
       "    </tr>\n",
       "    <tr>\n",
       "      <th>Ab22HMR4-002</th>\n",
       "      <td>Oahu</td>\n",
       "      <td>Oahu</td>\n",
       "      <td>Oahu</td>\n",
       "      <td>Ab22HMR4-002</td>\n",
       "      <td>2</td>\n",
       "      <td>Oahu</td>\n",
       "    </tr>\n",
       "    <tr>\n",
       "      <th>Ab22HMR4-001</th>\n",
       "      <td>Oahu</td>\n",
       "      <td>Oahu</td>\n",
       "      <td>Oahu</td>\n",
       "      <td>Ab22HMR4-001</td>\n",
       "      <td>3</td>\n",
       "      <td>Oahu</td>\n",
       "    </tr>\n",
       "    <tr>\n",
       "      <th>Ab21GELI003</th>\n",
       "      <td>RMI</td>\n",
       "      <td>RMI</td>\n",
       "      <td>RMI</td>\n",
       "      <td>Ab21GELI003</td>\n",
       "      <td>4</td>\n",
       "      <td>RMI</td>\n",
       "    </tr>\n",
       "    <tr>\n",
       "      <th>...</th>\n",
       "      <td>...</td>\n",
       "      <td>...</td>\n",
       "      <td>...</td>\n",
       "      <td>...</td>\n",
       "      <td>...</td>\n",
       "      <td>...</td>\n",
       "    </tr>\n",
       "    <tr>\n",
       "      <th>Ab23HNL003</th>\n",
       "      <td>Oahu</td>\n",
       "      <td>Oahu</td>\n",
       "      <td>Oahu</td>\n",
       "      <td>Ab23HNL003</td>\n",
       "      <td>130</td>\n",
       "      <td>Oahu</td>\n",
       "    </tr>\n",
       "    <tr>\n",
       "      <th>Ab23HNL004</th>\n",
       "      <td>Oahu</td>\n",
       "      <td>Oahu</td>\n",
       "      <td>Oahu</td>\n",
       "      <td>Ab23HNL004</td>\n",
       "      <td>131</td>\n",
       "      <td>Oahu</td>\n",
       "    </tr>\n",
       "    <tr>\n",
       "      <th>AbKAHO113</th>\n",
       "      <td>Big Island</td>\n",
       "      <td>Big Island</td>\n",
       "      <td>Big Island</td>\n",
       "      <td>AbKAHO113</td>\n",
       "      <td>132</td>\n",
       "      <td>Big Island</td>\n",
       "    </tr>\n",
       "    <tr>\n",
       "      <th>Ab21SHIPMN002</th>\n",
       "      <td>Big Island</td>\n",
       "      <td>Big Island</td>\n",
       "      <td>Big Island</td>\n",
       "      <td>Ab21SHIPMN002</td>\n",
       "      <td>133</td>\n",
       "      <td>Big Island</td>\n",
       "    </tr>\n",
       "    <tr>\n",
       "      <th>AbKAHO116</th>\n",
       "      <td>Big Island</td>\n",
       "      <td>Big Island</td>\n",
       "      <td>Big Island</td>\n",
       "      <td>AbKAHO116</td>\n",
       "      <td>134</td>\n",
       "      <td>Big Island</td>\n",
       "    </tr>\n",
       "  </tbody>\n",
       "</table>\n",
       "<p>133 rows × 6 columns</p>\n",
       "</div>"
      ],
      "text/plain": [
       "                 Collection_Location     Regions    District             ID  \\\n",
       "banked_sample_id                                                              \n",
       "Ae17ORA045                California  California  California     Ae17ORA045   \n",
       "Ae17GLA019                California  California  California     Ae17GLA019   \n",
       "Ab22HMR4-002                    Oahu        Oahu        Oahu   Ab22HMR4-002   \n",
       "Ab22HMR4-001                    Oahu        Oahu        Oahu   Ab22HMR4-001   \n",
       "Ab21GELI003                      RMI         RMI         RMI    Ab21GELI003   \n",
       "...                              ...         ...         ...            ...   \n",
       "Ab23HNL003                      Oahu        Oahu        Oahu     Ab23HNL003   \n",
       "Ab23HNL004                      Oahu        Oahu        Oahu     Ab23HNL004   \n",
       "AbKAHO113                 Big Island  Big Island  Big Island      AbKAHO113   \n",
       "Ab21SHIPMN002             Big Island  Big Island  Big Island  Ab21SHIPMN002   \n",
       "AbKAHO116                 Big Island  Big Island  Big Island      AbKAHO116   \n",
       "\n",
       "                  idx       group  \n",
       "banked_sample_id                   \n",
       "Ae17ORA045          0  California  \n",
       "Ae17GLA019          1  California  \n",
       "Ab22HMR4-002        2        Oahu  \n",
       "Ab22HMR4-001        3        Oahu  \n",
       "Ab21GELI003         4         RMI  \n",
       "...               ...         ...  \n",
       "Ab23HNL003        130        Oahu  \n",
       "Ab23HNL004        131        Oahu  \n",
       "AbKAHO113         132  Big Island  \n",
       "Ab21SHIPMN002     133  Big Island  \n",
       "AbKAHO116         134  Big Island  \n",
       "\n",
       "[133 rows x 6 columns]"
      ]
     },
     "execution_count": 27,
     "metadata": {},
     "output_type": "execute_result"
    }
   ],
   "source": [
    "meta"
   ]
  },
  {
   "cell_type": "markdown",
   "metadata": {},
   "source": [
    "## Filter out singletons (not informative for PCA) and any non-biallelic we missed"
   ]
  },
  {
   "cell_type": "code",
   "execution_count": 28,
   "metadata": {
    "ExecuteTime": {
     "end_time": "2019-01-18T01:36:25.823101Z",
     "start_time": "2019-01-18T01:36:24.171192Z"
    }
   },
   "outputs": [
    {
     "name": "stdout",
     "output_type": "stream",
     "text": [
      "additional biallelic + non-singleton filter removed: 42658\n",
      "CPU times: user 153 ms, sys: 6 ms, total: 159 ms\n",
      "Wall time: 158 ms\n"
     ]
    }
   ],
   "source": [
    "%%time\n",
    "if FILTER_SINGLETON:\n",
    "    # will need to re-filter for biallelic non-singleton\n",
    "    # based on http://alimanfoo.github.io/2015/09/28/fast-pca.html\n",
    "    ac = g.count_alleles()\n",
    "    loc_biallelic_nosgl = (ac.max_allele() == 1) & (ac[:,:2].min(axis=1) > 1)\n",
    "    print(\"additional biallelic + non-singleton filter removed:\",ac.shape[0]-np.count_nonzero(loc_biallelic_nosgl))\n",
    "    g = g.compress(loc_biallelic_nosgl, axis=0)"
   ]
  },
  {
   "cell_type": "code",
   "execution_count": 29,
   "metadata": {
    "ExecuteTime": {
     "end_time": "2019-01-18T01:36:25.829064Z",
     "start_time": "2019-01-18T01:36:25.826727Z"
    }
   },
   "outputs": [
    {
     "name": "stdout",
     "output_type": "stream",
     "text": [
      "Final filtered number of loci 264173\n"
     ]
    }
   ],
   "source": [
    "print(\"Final filtered number of loci\", g.shape[0])"
   ]
  },
  {
   "cell_type": "code",
   "execution_count": 30,
   "metadata": {},
   "outputs": [
    {
     "data": {
      "text/plain": [
       "<StringArray>\n",
       "['California', 'California',       'Oahu',       'Oahu',        'RMI',\n",
       "       'Maui',       'Guam',        'RMI',        'RMI',      'Kauai',\n",
       " ...\n",
       " 'Big Island', 'Big Island', 'Big Island', 'Big Island',       'Oahu',\n",
       "       'Oahu',       'Oahu', 'Big Island', 'Big Island', 'Big Island']\n",
       "Length: 133, dtype: string"
      ]
     },
     "execution_count": 30,
     "metadata": {},
     "output_type": "execute_result"
    }
   ],
   "source": [
    "meta[GROUP_COL].values"
   ]
  },
  {
   "cell_type": "code",
   "execution_count": 31,
   "metadata": {
    "ExecuteTime": {
     "end_time": "2019-01-18T01:36:25.848483Z",
     "start_time": "2019-01-18T01:36:25.830523Z"
    }
   },
   "outputs": [
    {
     "data": {
      "text/plain": [
       "['Big Island',\n",
       " 'California',\n",
       " 'Florida',\n",
       " 'Guam',\n",
       " 'Kauai',\n",
       " 'Maui',\n",
       " 'Oahu',\n",
       " 'RMI',\n",
       " 'Thailand']"
      ]
     },
     "execution_count": 31,
     "metadata": {},
     "output_type": "execute_result"
    }
   ],
   "source": [
    "POPULATIONS = sorted(set(meta[GROUP_COL].values))\n",
    "POPULATIONS"
   ]
  },
  {
   "cell_type": "code",
   "execution_count": 32,
   "metadata": {},
   "outputs": [
    {
     "data": {
      "text/plain": [
       "banked_sample_id\n",
       "Ae17ORA045       California\n",
       "Ae17GLA019       California\n",
       "Ab22HMR4-002           Oahu\n",
       "Ab22HMR4-001           Oahu\n",
       "Ab21GELI003             RMI\n",
       "                    ...    \n",
       "Ab23HNL003             Oahu\n",
       "Ab23HNL004             Oahu\n",
       "AbKAHO113        Big Island\n",
       "Ab21SHIPMN002    Big Island\n",
       "AbKAHO116        Big Island\n",
       "Name: Collection_Location, Length: 133, dtype: string"
      ]
     },
     "execution_count": 32,
     "metadata": {},
     "output_type": "execute_result"
    }
   ],
   "source": [
    "meta[GROUP_COL]"
   ]
  },
  {
   "cell_type": "code",
   "execution_count": 33,
   "metadata": {},
   "outputs": [],
   "source": [
    "# # Hand set colors\n",
    "POP_COLOURS = {\n",
    "    \n",
    "    ##Hawaii: #FF0000\n",
    "    'Big Island': ['#F7F056', 'o'],\n",
    "    'Maui': ['#F6C141', 'o'],\n",
    "    'Oahu': ['#E8601C', 'o'],\n",
    "    'Kauai': ['#DC050C', 'o'],\n",
    "\n",
    "    ##RMI #0000FF\n",
    "    'RMI': ['#7BAFDE', 'o'],\n",
    "\n",
    "    ##Guam #00FF00\n",
    "    'Guam': ['#1965B0', 'o'],\n",
    "\n",
    "    ##North America #800080\n",
    "    'Florida': ['#90C987', 'o'],\n",
    "    'California': ['#CAE0AB', 'o'], \n",
    "\n",
    "    ##Central America #00FFFF\n",
    "    'Thailand': ['#4EB265','o'],"
   ]
  },
  {
   "cell_type": "markdown",
   "metadata": {},
   "source": [
    "## Make n_alt (alt allele count array) used in actual PCA computations below"
   ]
  },
  {
   "cell_type": "code",
   "execution_count": 35,
   "metadata": {
    "ExecuteTime": {
     "end_time": "2019-01-18T01:36:28.288387Z",
     "start_time": "2019-01-18T01:36:25.849916Z"
    }
   },
   "outputs": [
    {
     "name": "stdout",
     "output_type": "stream",
     "text": [
      "CPU times: user 500 ms, sys: 15.9 ms, total: 516 ms\n",
      "Wall time: 515 ms\n"
     ]
    }
   ],
   "source": [
    "%%time\n",
    "# transform genotype data into a 2-D matrix where each cell has the num of non-ref alleles per call\n",
    "# takes about 18s\n",
    "gn = g.to_n_alt()"
   ]
  },
  {
   "cell_type": "markdown",
   "metadata": {},
   "source": [
    "### biallelic loci where the ref isn't observed are counted as monomorphic by to_n_alt...\n",
    "we can fix by mapping those alleles so idx 0 is the first alt\n",
    "\n",
    "!! *Don't need to do this if ref is included as virtual sample*"
   ]
  },
  {
   "cell_type": "code",
   "execution_count": 36,
   "metadata": {
    "ExecuteTime": {
     "end_time": "2019-01-18T01:36:28.295900Z",
     "start_time": "2019-01-18T01:36:28.289696Z"
    }
   },
   "outputs": [
    {
     "name": "stdout",
     "output_type": "stream",
     "text": [
      "number of biallelic but unboserved ref loci: 0\n"
     ]
    }
   ],
   "source": [
    "if not ADD_REFERENCE: # @TCC Don't need if ref is virtual sample\n",
    "    gfr = g\n",
    "    flt = np.nonzero(np.sum(gn,axis=1) == 2*gn.shape[1])[0]\n",
    "    print(\"number of biallelic but unboserved ref loci: \"+str(len(flt)))\n",
    "\n",
    "    gn2 = gn.copy()\n",
    "\n",
    "    # Remap those problematic alleles\n",
    "    if len(flt) > 0:\n",
    "        gn2[flt] = gfr[flt].map_alleles(np.repeat([[2,0,1]],gfr[flt].shape[0],axis=0)).to_n_alt()\n",
    "\n",
    "    # @TCC HACK!!!\n",
    "    # fix loci where allele idxs aren't 0,1,2 (gn2 will have them set to all 0 now)\n",
    "    # @TCC NEED TO MAKE THIS MORE GENERAL\n",
    "    flt = np.nonzero(np.sum(gn2,axis=1) == 0)[0]\n",
    "    # Remap those problematic alleles\n",
    "    if len(flt) > 0:\n",
    "        gn2[flt] = gfr[flt].map_alleles(np.repeat([[3,1,0]],gfr[flt].shape[0],axis=0)).to_n_alt()\n",
    "else:\n",
    "    gn2 = gn"
   ]
  },
  {
   "cell_type": "code",
   "execution_count": 37,
   "metadata": {},
   "outputs": [
    {
     "data": {
      "text/html": [
       "<div>\n",
       "<style scoped>\n",
       "    .dataframe tbody tr th:only-of-type {\n",
       "        vertical-align: middle;\n",
       "    }\n",
       "\n",
       "    .dataframe tbody tr th {\n",
       "        vertical-align: top;\n",
       "    }\n",
       "\n",
       "    .dataframe thead th {\n",
       "        text-align: right;\n",
       "    }\n",
       "</style>\n",
       "<table border=\"1\" class=\"dataframe\">\n",
       "  <thead>\n",
       "    <tr style=\"text-align: right;\">\n",
       "      <th></th>\n",
       "      <th>Collection_Location</th>\n",
       "      <th>Regions</th>\n",
       "      <th>District</th>\n",
       "      <th>ID</th>\n",
       "      <th>idx</th>\n",
       "      <th>group</th>\n",
       "    </tr>\n",
       "    <tr>\n",
       "      <th>banked_sample_id</th>\n",
       "      <th></th>\n",
       "      <th></th>\n",
       "      <th></th>\n",
       "      <th></th>\n",
       "      <th></th>\n",
       "      <th></th>\n",
       "    </tr>\n",
       "  </thead>\n",
       "  <tbody>\n",
       "    <tr>\n",
       "      <th>Ae17ORA045</th>\n",
       "      <td>California</td>\n",
       "      <td>California</td>\n",
       "      <td>California</td>\n",
       "      <td>Ae17ORA045</td>\n",
       "      <td>0</td>\n",
       "      <td>California</td>\n",
       "    </tr>\n",
       "    <tr>\n",
       "      <th>Ae17GLA019</th>\n",
       "      <td>California</td>\n",
       "      <td>California</td>\n",
       "      <td>California</td>\n",
       "      <td>Ae17GLA019</td>\n",
       "      <td>1</td>\n",
       "      <td>California</td>\n",
       "    </tr>\n",
       "    <tr>\n",
       "      <th>Ab22HMR4-002</th>\n",
       "      <td>Oahu</td>\n",
       "      <td>Oahu</td>\n",
       "      <td>Oahu</td>\n",
       "      <td>Ab22HMR4-002</td>\n",
       "      <td>2</td>\n",
       "      <td>Oahu</td>\n",
       "    </tr>\n",
       "    <tr>\n",
       "      <th>Ab22HMR4-001</th>\n",
       "      <td>Oahu</td>\n",
       "      <td>Oahu</td>\n",
       "      <td>Oahu</td>\n",
       "      <td>Ab22HMR4-001</td>\n",
       "      <td>3</td>\n",
       "      <td>Oahu</td>\n",
       "    </tr>\n",
       "    <tr>\n",
       "      <th>Ab21GELI003</th>\n",
       "      <td>RMI</td>\n",
       "      <td>RMI</td>\n",
       "      <td>RMI</td>\n",
       "      <td>Ab21GELI003</td>\n",
       "      <td>4</td>\n",
       "      <td>RMI</td>\n",
       "    </tr>\n",
       "    <tr>\n",
       "      <th>...</th>\n",
       "      <td>...</td>\n",
       "      <td>...</td>\n",
       "      <td>...</td>\n",
       "      <td>...</td>\n",
       "      <td>...</td>\n",
       "      <td>...</td>\n",
       "    </tr>\n",
       "    <tr>\n",
       "      <th>Ab23HNL003</th>\n",
       "      <td>Oahu</td>\n",
       "      <td>Oahu</td>\n",
       "      <td>Oahu</td>\n",
       "      <td>Ab23HNL003</td>\n",
       "      <td>130</td>\n",
       "      <td>Oahu</td>\n",
       "    </tr>\n",
       "    <tr>\n",
       "      <th>Ab23HNL004</th>\n",
       "      <td>Oahu</td>\n",
       "      <td>Oahu</td>\n",
       "      <td>Oahu</td>\n",
       "      <td>Ab23HNL004</td>\n",
       "      <td>131</td>\n",
       "      <td>Oahu</td>\n",
       "    </tr>\n",
       "    <tr>\n",
       "      <th>AbKAHO113</th>\n",
       "      <td>Big Island</td>\n",
       "      <td>Big Island</td>\n",
       "      <td>Big Island</td>\n",
       "      <td>AbKAHO113</td>\n",
       "      <td>132</td>\n",
       "      <td>Big Island</td>\n",
       "    </tr>\n",
       "    <tr>\n",
       "      <th>Ab21SHIPMN002</th>\n",
       "      <td>Big Island</td>\n",
       "      <td>Big Island</td>\n",
       "      <td>Big Island</td>\n",
       "      <td>Ab21SHIPMN002</td>\n",
       "      <td>133</td>\n",
       "      <td>Big Island</td>\n",
       "    </tr>\n",
       "    <tr>\n",
       "      <th>AbKAHO116</th>\n",
       "      <td>Big Island</td>\n",
       "      <td>Big Island</td>\n",
       "      <td>Big Island</td>\n",
       "      <td>AbKAHO116</td>\n",
       "      <td>134</td>\n",
       "      <td>Big Island</td>\n",
       "    </tr>\n",
       "  </tbody>\n",
       "</table>\n",
       "<p>133 rows × 6 columns</p>\n",
       "</div>"
      ],
      "text/plain": [
       "                 Collection_Location     Regions    District             ID  \\\n",
       "banked_sample_id                                                              \n",
       "Ae17ORA045                California  California  California     Ae17ORA045   \n",
       "Ae17GLA019                California  California  California     Ae17GLA019   \n",
       "Ab22HMR4-002                    Oahu        Oahu        Oahu   Ab22HMR4-002   \n",
       "Ab22HMR4-001                    Oahu        Oahu        Oahu   Ab22HMR4-001   \n",
       "Ab21GELI003                      RMI         RMI         RMI    Ab21GELI003   \n",
       "...                              ...         ...         ...            ...   \n",
       "Ab23HNL003                      Oahu        Oahu        Oahu     Ab23HNL003   \n",
       "Ab23HNL004                      Oahu        Oahu        Oahu     Ab23HNL004   \n",
       "AbKAHO113                 Big Island  Big Island  Big Island      AbKAHO113   \n",
       "Ab21SHIPMN002             Big Island  Big Island  Big Island  Ab21SHIPMN002   \n",
       "AbKAHO116                 Big Island  Big Island  Big Island      AbKAHO116   \n",
       "\n",
       "                  idx       group  \n",
       "banked_sample_id                   \n",
       "Ae17ORA045          0  California  \n",
       "Ae17GLA019          1  California  \n",
       "Ab22HMR4-002        2        Oahu  \n",
       "Ab22HMR4-001        3        Oahu  \n",
       "Ab21GELI003         4         RMI  \n",
       "...               ...         ...  \n",
       "Ab23HNL003        130        Oahu  \n",
       "Ab23HNL004        131        Oahu  \n",
       "AbKAHO113         132  Big Island  \n",
       "Ab21SHIPMN002     133  Big Island  \n",
       "AbKAHO116         134  Big Island  \n",
       "\n",
       "[133 rows x 6 columns]"
      ]
     },
     "execution_count": 37,
     "metadata": {},
     "output_type": "execute_result"
    }
   ],
   "source": [
    "meta"
   ]
  },
  {
   "cell_type": "code",
   "execution_count": 38,
   "metadata": {
    "ExecuteTime": {
     "end_time": "2019-01-18T01:36:47.125525Z",
     "start_time": "2019-01-18T01:36:28.312724Z"
    }
   },
   "outputs": [
    {
     "name": "stdout",
     "output_type": "stream",
     "text": [
      "CPU times: user 42 s, sys: 9.07 s, total: 51.1 s\n",
      "Wall time: 7.17 s\n"
     ]
    }
   ],
   "source": [
    "%%time\n",
    "# takes about 80s\n",
    "coords2, model2 = allel.pca(gn2, n_components=10, scaler=None)#'patterson')"
   ]
  },
  {
   "cell_type": "code",
   "execution_count": 43,
   "metadata": {},
   "outputs": [
    {
     "data": {
      "image/png": "[encoded data removed]",
      "text/plain": [
       "<Figure size 1000x600 with 4 Axes>"
      ]
     },
     "metadata": {},
     "output_type": "display_data"
    }
   ],
   "source": [
    "sample_labels = meta['ID'].values \n",
    "\n",
    "# font setting\n",
    "plt.rcParams['font.family'] = 'Dejavu Sans'\n",
    "\n",
    "def plot_pca_coords(coords, model, pc1, pc2, ax, sample_population, pop_colors, sample_labels=None):\n",
    "    x = coords[:, pc1]\n",
    "    y = coords[:, pc2]\n",
    "    for pop in POPULATIONS:\n",
    "        flt = (sample_population == pop)\n",
    "        ax.plot(-x[np.where(flt)], y[np.where(flt)], marker=pop_colors[pop][1], linestyle=' ', color=pop_colors[pop][0],\n",
    "                label=\"{:s}\".format(pop),\n",
    "                markersize=8, mec='k', mew=.5, clip_on=False)\n",
    "        \n",
    "        # labelling\n",
    "        if sample_labels is not None:\n",
    "            for i in np.where(flt)[0]:\n",
    "                ax.text(-x[i], y[i], sample_labels[i], fontsize=6, ha='right', va='bottom', clip_on=True)\n",
    "\n",
    "    ax.set_xlabel('PC%s (%.1f%%)' % (pc1+1, model.explained_variance_ratio_[pc1]*100))\n",
    "    ax.set_ylabel('PC%s (%.1f%%)' % (pc2+1, model.explained_variance_ratio_[pc2]*100))\n",
    "    \n",
    "def fig_pca2(coords, model, title, sample_population=None, pop_colors=None, sample_labels=None):\n",
    "    if sample_population is None:\n",
    "        sample_population = df_samples.population.values\n",
    "    \n",
    "    gs = gridspec.GridSpec(2,3, height_ratios=(1,.75))\n",
    "    fig = plt.figure(figsize=(10, 6))\n",
    "    ax1 = plt.subplot(gs[0,0])\n",
    "    ax2 = plt.subplot(gs[0,1])\n",
    "    ax3 = plt.subplot(gs[1,:])\n",
    "    ax4 = plt.subplot(gs[0,2])\n",
    "\n",
    "    plot_pca_coords(coords, model, 0, 1, ax1, sample_population, pop_colors, sample_labels)\n",
    "    plot_pca_coords(coords, model, 2, 3, ax2, sample_population, pop_colors, sample_labels)\n",
    "    plot_pca_coords(coords, model, 0, 2, ax4, sample_population, pop_colors, sample_labels)\n",
    "    \n",
    "    ax3.axis('off')\n",
    "    handles, labels = ax1.get_legend_handles_labels()\n",
    "    sorted_handles_labels = sorted(zip(labels, handles), key=lambda x: x[0])\n",
    "    labels, handles = zip(*sorted_handles_labels)\n",
    "\n",
    "    ax3.legend(handles, labels, numpoints=1, fontsize=10, ncol=4, mode=\"expand\", loc='upper center',\n",
    "               frameon=False, borderaxespad=0.)\n",
    "    \n",
    "    fig.suptitle(title, y=.99)\n",
    "    fig.tight_layout(rect=(0,0,1,.975))\n",
    "    \n",
    "    return fig\n",
    "\n",
    "#if want to label on each dots, add label code here / sample_labels=sample_labels\n",
    "fig = fig_pca2(coords2, model2, 'Conventional PCA no scaling ('+str(gn.shape[0])+' loci)', \n",
    "               sample_population=meta[GROUP_COL].values,\n",
    "               pop_colors=POP_COLOURS\n",
    "               )\n",
    "\n",
    "plt.savefig('PCA_albo_Pacific_Feb042025.svg')\n",
    "plt.savefig('PCA_albo_Pacific_Feb042025.png')"
   ]
  },
  {
   "cell_type": "code",
   "execution_count": 40,
   "metadata": {},
   "outputs": [
    {
     "data": {
      "text/plain": [
       "array([0.0329345 , 0.02040586, 0.0180183 , 0.01460742, 0.01388843,\n",
       "       0.01340192, 0.01259471, 0.01196592, 0.01146843, 0.01137373],\n",
       "      dtype=float32)"
      ]
     },
     "execution_count": 40,
     "metadata": {},
     "output_type": "execute_result"
    }
   ],
   "source": [
    "# PC explained variance ratio\n",
    "# e.g. 1st number 0.09 in the array means 9% of variance explains PC1\n",
    "model2.explained_variance_ratio_\n"
   ]
  }
 ],
 "metadata": {
  "kernelspec": {
   "display_name": "Python 3 (ipykernel)",
   "language": "python",
   "name": "python3"
  },
  "language_info": {
   "codemirror_mode": {
    "name": "ipython",
    "version": 3
   },
   "file_extension": ".py",
   "mimetype": "text/x-python",
   "name": "python",
   "nbconvert_exporter": "python",
   "pygments_lexer": "ipython3",
   "version": "3.10.12"
  },
  "varInspector": {
   "cols": {
    "lenName": 16,
    "lenType": 16,
    "lenVar": 40
   },
   "kernels_config": {
    "python": {
     "delete_cmd_postfix": "",
     "delete_cmd_prefix": "del ",
     "library": "var_list.py",
     "varRefreshCmd": "print(var_dic_list())"
    },
    "r": {
     "delete_cmd_postfix": ") ",
     "delete_cmd_prefix": "rm(",
     "library": "var_list.r",
     "varRefreshCmd": "cat(var_dic_list()) "
    }
   },
   "types_to_exclude": [
    "module",
    "function",
    "builtin_function_or_method",
    "instance",
    "_Feature"
   ],
   "window_display": false
  }
 },
 "nbformat": 4,
 "nbformat_minor": 4
}
